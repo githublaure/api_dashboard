{
 "cells": [
  {
   "cell_type": "code",
   "execution_count": 3,
   "id": "b2c86dc3-c427-4ad2-bce9-2aa722ac41e8",
   "metadata": {},
   "outputs": [],
   "source": [
    "import pandas as pd\n",
    "import pickle\n",
    "\n",
    "# Création du dataset\n",
    "data = {\n",
    "    'Élève': ['Élève 1', 'Élève 2'],\n",
    "    'Notes': [15, 18]\n",
    "}\n",
    "df = pd.DataFrame(data)\n",
    "df.to_csv('../data/processed/data_test.csv', index=False)\n",
    "\n",
    "# Création d'un modèle simple qui calcule la moyenne\n",
    "class MoyenneModel:\n",
    "    def predict(self, data):\n",
    "        return data.mean()\n",
    "\n",
    "model = MoyenneModel()\n",
    "with open('../models/moyenne.pkl', 'wb') as f:\n",
    "    pickle.dump(model, f)\n"
   ]
  },
  {
   "cell_type": "code",
   "execution_count": null,
   "id": "c961d437-3f15-4d5a-86bd-f4a8d5d8f85d",
   "metadata": {},
   "outputs": [],
   "source": []
  }
 ],
 "metadata": {
  "kernelspec": {
   "display_name": "Python 3 (ipykernel)",
   "language": "python",
   "name": "python3"
  },
  "language_info": {
   "codemirror_mode": {
    "name": "ipython",
    "version": 3
   },
   "file_extension": ".py",
   "mimetype": "text/x-python",
   "name": "python",
   "nbconvert_exporter": "python",
   "pygments_lexer": "ipython3",
   "version": "3.12.4"
  }
 },
 "nbformat": 4,
 "nbformat_minor": 5
}
