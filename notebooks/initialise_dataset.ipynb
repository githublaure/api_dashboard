{
 "cells": [
  {
   "cell_type": "code",
   "execution_count": 2,
   "id": "ebfd7728",
   "metadata": {},
   "outputs": [
    {
     "name": "stdout",
     "output_type": "stream",
     "text": [
      "Requirement already satisfied: dill in /opt/anaconda3/lib/python3.12/site-packages (0.3.8)\n"
     ]
    }
   ],
   "source": [
    "!pip install dill"
   ]
  },
  {
   "cell_type": "code",
   "execution_count": 1,
   "id": "ffd69b7f",
   "metadata": {},
   "outputs": [],
   "source": [
    "import dill\n",
    "import pandas as pd\n",
    "from fastapi import FastAPI\n",
    "from fastapi.responses import JSONResponse\n",
    "import streamlit as st\n",
    "import matplotlib.pyplot as plt"
   ]
  },
  {
   "cell_type": "code",
   "execution_count": 3,
   "id": "b2c86dc3-c427-4ad2-bce9-2aa722ac41e8",
   "metadata": {},
   "outputs": [],
   "source": [
    "import pandas as pd\n",
    "import dill as pickle  # Utilisez dill pour la sérialisation\n",
    "\n",
    "# Création du dataset\n",
    "data = {\n",
    "    'Élève': ['Élève 1', 'Élève 2'],\n",
    "    'Notes': [15, 18]\n",
    "}\n",
    "df = pd.DataFrame(data)\n",
    "df.to_csv('../data/processed/data_test.csv', index=False)\n",
    "\n",
    "# Création d'un modèle simple qui calcule la moyenne\n",
    "class MoyenneModel:\n",
    "    def predict(self, data):\n",
    "        return data.mean()\n",
    "\n",
    "# Créer et sauvegarder le modèle\n",
    "model = MoyenneModel()\n",
    "with open('../models/moyenne.pkl', 'wb') as f:\n",
    "    pickle.dump(model, f)  # Utilisez dill pour sérialiser le modèle\n"
   ]
  },
  {
   "cell_type": "code",
   "execution_count": 4,
   "id": "c961d437-3f15-4d5a-86bd-f4a8d5d8f85d",
   "metadata": {},
   "outputs": [],
   "source": [
    "!pip freeze > requirements.txt\n"
   ]
  },
  {
   "cell_type": "code",
   "execution_count": 5,
   "id": "d7b69ead",
   "metadata": {},
   "outputs": [],
   "source": [
    "!cp ../notebooks/requirements.txt ../requirements.txt\n"
   ]
  },
  {
   "cell_type": "code",
   "execution_count": null,
   "id": "4a758161",
   "metadata": {},
   "outputs": [],
   "source": []
  }
 ],
 "metadata": {
  "kernelspec": {
   "display_name": "Python 3 (ipykernel)",
   "language": "python",
   "name": "python3"
  },
  "language_info": {
   "codemirror_mode": {
    "name": "ipython",
    "version": 3
   },
   "file_extension": ".py",
   "mimetype": "text/x-python",
   "name": "python",
   "nbconvert_exporter": "python",
   "pygments_lexer": "ipython3",
   "version": "3.12.4"
  }
 },
 "nbformat": 4,
 "nbformat_minor": 5
}
